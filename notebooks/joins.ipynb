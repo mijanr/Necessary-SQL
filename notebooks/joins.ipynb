{
 "cells": [
  {
   "cell_type": "markdown",
   "metadata": {},
   "source": [
    "# Explanation of joins\n",
    "This notebook demonstrates the different types of joins in Pandas (SQL)."
   ]
  },
  {
   "cell_type": "code",
   "execution_count": 3,
   "metadata": {},
   "outputs": [],
   "source": [
    "import pandas as pd\n",
    "import numpy as np"
   ]
  },
  {
   "cell_type": "code",
   "execution_count": 35,
   "metadata": {},
   "outputs": [
    {
     "name": "stdout",
     "output_type": "stream",
     "text": [
      "  key  value_1\n",
      "0   A        9\n",
      "1   B        4\n",
      "2   C        0\n",
      "3   D        1\n",
      "4   E        9\n",
      "  key  value_2\n",
      "0   A        0\n",
      "1   B        1\n",
      "2   F        8\n",
      "3   G        9\n",
      "4   H        0\n"
     ]
    }
   ],
   "source": [
    "# Let's make two tables first\n",
    "np.random.seed(10)\n",
    "# Table 1\n",
    "keys1 = ['A', 'B', 'C', 'D', 'E']\n",
    "values1 = np.random.randint(0, 10, size=(5))\n",
    "df1 = pd.DataFrame({'key': keys1, 'value_1': values1})\n",
    "\n",
    "# Table 2\n",
    "keys2 = ['A', 'B', 'F', 'G', 'H']\n",
    "values2 = np.random.randint(0, 10, size=(5))\n",
    "df2 = pd.DataFrame({'key': keys2, 'value_2': values2})\n",
    "\n",
    "# Let's see what they look like\n",
    "print(df1) \n",
    "print(df2)\n"
   ]
  },
  {
   "cell_type": "markdown",
   "metadata": {},
   "source": [
    "## 1. Inner Join\n",
    "It returns all rows from both tables where the join condition is met. If there is no match, the row is not returned. "
   ]
  },
  {
   "cell_type": "code",
   "execution_count": 36,
   "metadata": {},
   "outputs": [
    {
     "name": "stdout",
     "output_type": "stream",
     "text": [
      "  key  value_1  value_2\n",
      "0   A        9        0\n",
      "1   B        4        1\n"
     ]
    }
   ],
   "source": [
    "# INNER JOIN\n",
    "df_inner = pd.merge(df1, df2, on='key', how='inner')\n",
    "print(df_inner)"
   ]
  },
  {
   "cell_type": "markdown",
   "metadata": {},
   "source": [
    "## 2. Left Join\n",
    "It returns all rows from the left table and the matching rows from the right table. If there is no match, the right side will contain null."
   ]
  },
  {
   "cell_type": "code",
   "execution_count": 37,
   "metadata": {},
   "outputs": [
    {
     "name": "stdout",
     "output_type": "stream",
     "text": [
      "  key  value_1  value_2\n",
      "0   A        9      0.0\n",
      "1   B        4      1.0\n",
      "2   C        0      NaN\n",
      "3   D        1      NaN\n",
      "4   E        9      NaN\n"
     ]
    }
   ],
   "source": [
    "# LEFT JOIN\n",
    "df_left = pd.merge(df1, df2, on='key', how='left')\n",
    "print(df_left)"
   ]
  },
  {
   "cell_type": "markdown",
   "metadata": {},
   "source": [
    "## 3. Right Join\n",
    "It returns all rows from the right table and the matching rows from the left table. If there is no match, the left side will contain null."
   ]
  },
  {
   "cell_type": "code",
   "execution_count": 38,
   "metadata": {},
   "outputs": [
    {
     "name": "stdout",
     "output_type": "stream",
     "text": [
      "  key  value_1  value_2\n",
      "0   A      9.0        0\n",
      "1   B      4.0        1\n",
      "2   F      NaN        8\n",
      "3   G      NaN        9\n",
      "4   H      NaN        0\n"
     ]
    }
   ],
   "source": [
    "# RIGHT JOIN\n",
    "df_right = pd.merge(df1, df2, on='key', how='right')\n",
    "print(df_right)"
   ]
  },
  {
   "cell_type": "markdown",
   "metadata": {},
   "source": [
    "## 4. Full Outer Join\n",
    "It returns all rows from both tables. If there is no match, the missing side will contain null."
   ]
  },
  {
   "cell_type": "code",
   "execution_count": 39,
   "metadata": {},
   "outputs": [
    {
     "name": "stdout",
     "output_type": "stream",
     "text": [
      "  key  value_1  value_2\n",
      "0   A      9.0      0.0\n",
      "1   B      4.0      1.0\n",
      "2   C      0.0      NaN\n",
      "3   D      1.0      NaN\n",
      "4   E      9.0      NaN\n",
      "5   F      NaN      8.0\n",
      "6   G      NaN      9.0\n",
      "7   H      NaN      0.0\n"
     ]
    }
   ],
   "source": [
    "# OUTER JOIN\n",
    "df_outer = pd.merge(df1, df2, on='key', how='outer')\n",
    "print(df_outer)"
   ]
  },
  {
   "cell_type": "markdown",
   "metadata": {},
   "source": [
    "## 5. Anti Join\n",
    "It returns all rows from the left table where there is no match in the right table."
   ]
  },
  {
   "cell_type": "code",
   "execution_count": 40,
   "metadata": {},
   "outputs": [
    {
     "name": "stdout",
     "output_type": "stream",
     "text": [
      "  key  value_1\n",
      "2   C        0\n",
      "3   D        1\n",
      "4   E        9\n"
     ]
    }
   ],
   "source": [
    "# ANTI JOIN\n",
    "df_anti = df1[~df1['key'].isin(df2['key'])]\n",
    "print(df_anti)"
   ]
  }
 ],
 "metadata": {
  "kernelspec": {
   "display_name": "torch",
   "language": "python",
   "name": "python3"
  },
  "language_info": {
   "codemirror_mode": {
    "name": "ipython",
    "version": 3
   },
   "file_extension": ".py",
   "mimetype": "text/x-python",
   "name": "python",
   "nbconvert_exporter": "python",
   "pygments_lexer": "ipython3",
   "version": "3.11.5"
  }
 },
 "nbformat": 4,
 "nbformat_minor": 2
}
